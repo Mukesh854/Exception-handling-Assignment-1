{
 "cells": [
  {
   "cell_type": "markdown",
   "id": "f51b0258-48af-47fb-84bb-2eb3e21aaf05",
   "metadata": {},
   "source": [
    "# Exception handling Assignment-1"
   ]
  },
  {
   "cell_type": "markdown",
   "id": "92b905b4-0f94-4d27-8823-4b4a12dcb13f",
   "metadata": {},
   "source": [
    "Q1. What\n",
    "is\n",
    "an Exception in python? Write the difference between Exceptions\n",
    "and syntax\n",
    "errors?"
   ]
  },
  {
   "cell_type": "markdown",
   "id": "5958c8f7-2892-4a9e-9c2b-7317b376ff6c",
   "metadata": {},
   "source": [
    "\n",
    "Exceptions are events that disrupt the normal flow of a Python program during its execution, typically caused by factors like user input errors or logical mistakes. They can be handled using try-except blocks. \n",
    "\n",
    "Exceptions:\n",
    "\n",
    "Exceptions occur during the execution of a program.\n",
    "\n",
    "They typically arise due to factors like user input errors, hardware failures, network issues, or logical errors in the program.\n",
    "\n",
    "Syntax Errors:\n",
    "\n",
    "Syntax errors occur during the parsing of code, before the program is executed.\n",
    "\n",
    "They occur when the syntax of the code violates the rules of the Python language."
   ]
  },
  {
   "cell_type": "markdown",
   "id": "087772c2-37d2-4a20-a6ca-d027aea74e6b",
   "metadata": {},
   "source": [
    "Q2. What happens when an exception is not handled? Explain with an example?\n",
    "\n",
    "\n",
    "\n",
    "\n",
    "\n",
    "\n"
   ]
  },
  {
   "cell_type": "markdown",
   "id": "4715a710-59b7-4cc5-86a5-cd7639ef0fbb",
   "metadata": {},
   "source": [
    "\n",
    "When an exception is not handled in a Python program, it propagates up the call stack until it reaches the top-level of the program. If it remains unhandled at that point, the program terminates abruptly, and Python displays an error message along with a traceback indicating where the exception occurred."
   ]
  },
  {
   "cell_type": "markdown",
   "id": "e922477e-a808-4a36-a423-d9141109e2e8",
   "metadata": {},
   "source": [
    "Q3. Which python statements are used to catch and handle exceptions? Explain with example?"
   ]
  },
  {
   "cell_type": "markdown",
   "id": "426d5413-b648-4f55-af42-a80a2d328d83",
   "metadata": {},
   "source": [
    "In Python, the try statement is used to enclose code that may raise exceptions, while the except statement catches and handles specific exceptions. The else statement is executed if no exceptions occur, and the finally statement is executed regardless of whether an exception was raised or not, often used for cleanup operations."
   ]
  },
  {
   "cell_type": "markdown",
   "id": "9e23b99b-b6eb-4606-a16c-f11dab204af7",
   "metadata": {},
   "source": [
    "Q4. Explain with an example 1. try and else 2. finally  3. raise\n",
    "\n",
    "\n",
    "\n",
    "\n"
   ]
  },
  {
   "cell_type": "markdown",
   "id": "46175c1a-3d1d-4bb8-922e-23a7bf42a4c5",
   "metadata": {},
   "source": [
    "1) try and raise:\n",
    "    \n",
    ". try is used to enclose code that may raise exceptions.\n",
    "\n",
    ". else block is executed if no exceptions occur in the try block.\n",
    "\n",
    "2) finally:\n",
    "\n",
    ". finally is used to execute code regardless of whether an exception was raised or not.\n",
    "\n",
    "3) raise:\n",
    "\n",
    ". raise is used to explicitly raise exceptions."
   ]
  },
  {
   "cell_type": "markdown",
   "id": "20e56d51-d045-4298-8e22-89fd3c304a3b",
   "metadata": {},
   "source": [
    "Q5. what are custom exceptions in python? Why do we need Custom exceptions? Explain with example. "
   ]
  },
  {
   "cell_type": "markdown",
   "id": "41a13722-2fc5-403b-a29e-c200a7826203",
   "metadata": {},
   "source": [
    "Custom exceptions in Python are user-defined exception classes created by extending built-in exception classes. They offer clearer error handling, improved modularity, better debugging, and enhanced control flow. For instance, in a banking application, a InsufficientFundsError exception can be created to handle cases where a withdrawal exceeds the account balance, providing more descriptive error messages and tailored error handling."
   ]
  },
  {
   "cell_type": "markdown",
   "id": "226bb783-6423-42ce-9a13-0cb4079d01c5",
   "metadata": {},
   "source": [
    "Q6. Create a custom exceptions class. Use this class to handle an exception?"
   ]
  },
  {
   "cell_type": "markdown",
   "id": "b4a1daea-375e-4730-8b0c-f04d6c7286e4",
   "metadata": {},
   "source": [
    "We create a custom exception class by inheriting from the built-in Exception class and defining an __init__ method to initialize the exception with a custom error message. Then, we raise this custom exception when a specific condition is met in our code. Finally, we handle this custom exception using a try-except block, catching the exception and printing its custom error message."
   ]
  },
  {
   "cell_type": "code",
   "execution_count": null,
   "id": "eb4cdf0d-9cd1-4978-89f1-99687f8038bb",
   "metadata": {},
   "outputs": [],
   "source": []
  }
 ],
 "metadata": {
  "kernelspec": {
   "display_name": "Python 3 (ipykernel)",
   "language": "python",
   "name": "python3"
  },
  "language_info": {
   "codemirror_mode": {
    "name": "ipython",
    "version": 3
   },
   "file_extension": ".py",
   "mimetype": "text/x-python",
   "name": "python",
   "nbconvert_exporter": "python",
   "pygments_lexer": "ipython3",
   "version": "3.10.8"
  }
 },
 "nbformat": 4,
 "nbformat_minor": 5
}
